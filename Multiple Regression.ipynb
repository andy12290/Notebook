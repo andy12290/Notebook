{
 "cells": [
  {
   "cell_type": "markdown",
   "metadata": {},
   "source": [
    "Name = Aniket Kale\n",
    "Assignment No 3 = Multiple Linear Regreesion.\n",
    "Prof-Dr. Katie Campbell\n",
    "Class= MSBI Fall-2016\n",
    "Date: 11 Nov 2016"
   ]
  },
  {
   "cell_type": "markdown",
   "metadata": {},
   "source": [
    "Equation of Line:\n",
    "Y(Sales) = B0+B1*Time+B2*Mktpoten+B3*Adver+B4*mktshare+B5*Change+B6*Accts+B7*Wkload\n"
   ]
  },
  {
   "cell_type": "code",
   "execution_count": 33,
   "metadata": {
    "collapsed": false
   },
   "outputs": [],
   "source": [
    "import pandas as pd\n",
    "data = pd.read_csv(\"Salesdata.csv\")\n"
   ]
  },
  {
   "cell_type": "code",
   "execution_count": 34,
   "metadata": {
    "collapsed": false
   },
   "outputs": [
    {
     "data": {
      "text/html": [
       "<div>\n",
       "<table border=\"1\" class=\"dataframe\">\n",
       "  <thead>\n",
       "    <tr style=\"text-align: right;\">\n",
       "      <th></th>\n",
       "      <th>Sales</th>\n",
       "      <th>Time</th>\n",
       "      <th>MktPoten</th>\n",
       "      <th>Adver</th>\n",
       "      <th>MktShare</th>\n",
       "      <th>Change</th>\n",
       "      <th>Accts</th>\n",
       "      <th>WkLoad</th>\n",
       "    </tr>\n",
       "  </thead>\n",
       "  <tbody>\n",
       "    <tr>\n",
       "      <th>0</th>\n",
       "      <td>3669.88</td>\n",
       "      <td>43.10</td>\n",
       "      <td>74065.11</td>\n",
       "      <td>4582.88</td>\n",
       "      <td>2.51</td>\n",
       "      <td>0.34</td>\n",
       "      <td>74.86</td>\n",
       "      <td>15.05</td>\n",
       "    </tr>\n",
       "    <tr>\n",
       "      <th>1</th>\n",
       "      <td>3473.95</td>\n",
       "      <td>108.13</td>\n",
       "      <td>58117.30</td>\n",
       "      <td>5539.78</td>\n",
       "      <td>5.51</td>\n",
       "      <td>0.15</td>\n",
       "      <td>107.32</td>\n",
       "      <td>19.97</td>\n",
       "    </tr>\n",
       "    <tr>\n",
       "      <th>2</th>\n",
       "      <td>2295.10</td>\n",
       "      <td>13.82</td>\n",
       "      <td>21118.49</td>\n",
       "      <td>2950.38</td>\n",
       "      <td>10.91</td>\n",
       "      <td>-0.72</td>\n",
       "      <td>96.75</td>\n",
       "      <td>17.34</td>\n",
       "    </tr>\n",
       "    <tr>\n",
       "      <th>3</th>\n",
       "      <td>4675.56</td>\n",
       "      <td>186.18</td>\n",
       "      <td>68521.27</td>\n",
       "      <td>2243.07</td>\n",
       "      <td>8.27</td>\n",
       "      <td>0.17</td>\n",
       "      <td>195.12</td>\n",
       "      <td>13.40</td>\n",
       "    </tr>\n",
       "    <tr>\n",
       "      <th>4</th>\n",
       "      <td>6125.96</td>\n",
       "      <td>161.79</td>\n",
       "      <td>57805.11</td>\n",
       "      <td>7747.08</td>\n",
       "      <td>9.15</td>\n",
       "      <td>0.50</td>\n",
       "      <td>180.44</td>\n",
       "      <td>17.64</td>\n",
       "    </tr>\n",
       "  </tbody>\n",
       "</table>\n",
       "</div>"
      ],
      "text/plain": [
       "     Sales    Time  MktPoten    Adver  MktShare  Change   Accts  WkLoad\n",
       "0  3669.88   43.10  74065.11  4582.88      2.51    0.34   74.86   15.05\n",
       "1  3473.95  108.13  58117.30  5539.78      5.51    0.15  107.32   19.97\n",
       "2  2295.10   13.82  21118.49  2950.38     10.91   -0.72   96.75   17.34\n",
       "3  4675.56  186.18  68521.27  2243.07      8.27    0.17  195.12   13.40\n",
       "4  6125.96  161.79  57805.11  7747.08      9.15    0.50  180.44   17.64"
      ]
     },
     "execution_count": 34,
     "metadata": {},
     "output_type": "execute_result"
    }
   ],
   "source": [
    "data.head()\n"
   ]
  },
  {
   "cell_type": "markdown",
   "metadata": {},
   "source": [
    "Scatter Plot:\n",
    "We can see the Linear relationship Between Time and Sale.\n",
    "but we need to check the more parameter to come to the conclusion."
   ]
  },
  {
   "cell_type": "markdown",
   "metadata": {},
   "source": [
    "Time and Sales-\n",
    "\n",
    "From Graph:\n",
    "\n",
    "We can see the linear relationship between Sales and Time.\n",
    "\n",
    "Sales and Mktpoten:\n",
    "\n",
    "We can see the linear relationship between Sales and Mktpoten.\n",
    "\n",
    "Sales and Adver:\n",
    "\n",
    "We can see the linear relationship between Sales and Adver.\n"
   ]
  },
  {
   "cell_type": "code",
   "execution_count": 35,
   "metadata": {
    "collapsed": false
   },
   "outputs": [
    {
     "data": {
      "text/plain": [
       "<matplotlib.axes._subplots.AxesSubplot at 0x11cdc18d0>"
      ]
     },
     "execution_count": 35,
     "metadata": {},
     "output_type": "execute_result"
    },
    {
     "data": {
      "image/png": "[encoded data removed]",
      "text/plain": [
       "<matplotlib.figure.Figure at 0x11cd4f128>"
      ]
     },
     "metadata": {},
     "output_type": "display_data"
    }
   ],
   "source": [
    "\n",
    "import matplotlib.pyplot as plt\n",
    "%matplotlib inline\n",
    "fig, axs = plt.subplots(1, 3, sharey=True)\n",
    "data.plot(kind = \"scatter\", x=\"Time\", y=\"Sales\", ax=axs[0],figsize=(16,8))\n",
    "data.plot(kind = \"scatter\", x=\"Adver\", y=\"Sales\",ax=axs[1],figsize=(16,8))\n",
    "data.plot(kind = \"scatter\", x=\"MktPoten\", y=\"Sales\",ax =axs[2], figsize=(16,8))\n"
   ]
  },
  {
   "cell_type": "markdown",
   "metadata": {},
   "source": [
    "Sales and MktShare:\n",
    "\n",
    "We can see the linear relationship between Sales and MktShare.\n",
    "\n",
    "Sales and Change:\n",
    "We can see the linear relationship between Sales and Change.\n",
    "\n",
    "Sales and Accts:\n",
    "We can see the linear relationship between Sales and Accts.\n"
   ]
  },
  {
   "cell_type": "code",
   "execution_count": 36,
   "metadata": {
    "collapsed": false
   },
   "outputs": [
    {
     "data": {
      "text/plain": [
       "<matplotlib.axes._subplots.AxesSubplot at 0x11d48a048>"
      ]
     },
     "execution_count": 36,
     "metadata": {},
     "output_type": "execute_result"
    },
    {
     "data": {
      "image/png": "[encoded data removed]",
      "text/plain": [
       "<matplotlib.figure.Figure at 0x11cd4ff28>"
      ]
     },
     "metadata": {},
     "output_type": "display_data"
    }
   ],
   "source": [
    "fig, axs = plt.subplots(1, 3, sharey=True)\n",
    "data.plot(kind = \"scatter\", x=\"MktShare\", y=\"Sales\",ax=axs[0],figsize=(16,8))\n",
    "data.plot(kind = \"scatter\", x=\"Change\", y=\"Sales\", ax=axs[1],figsize=(16,8))\n",
    "data.plot(kind = \"scatter\", x=\"Accts\", y=\"Sales\",ax=axs[2],figsize=(16,8))\n",
    "\n"
   ]
  },
  {
   "cell_type": "markdown",
   "metadata": {},
   "source": [
    "WkLoad is Non-Linear as Compared to other X.\n",
    "But we will going to see the R2 and Adju R2 for Module\n",
    "then we will step down the nonlinear variable from module\n"
   ]
  },
  {
   "cell_type": "code",
   "execution_count": 37,
   "metadata": {
    "collapsed": false
   },
   "outputs": [
    {
     "data": {
      "text/plain": [
       "<matplotlib.axes._subplots.AxesSubplot at 0x11cd4f9e8>"
      ]
     },
     "execution_count": 37,
     "metadata": {},
     "output_type": "execute_result"
    },
    {
     "data": {
      "image/png": "[encoded data removed]",
      "text/plain": [
       "<matplotlib.figure.Figure at 0x11cd4f358>"
      ]
     },
     "metadata": {},
     "output_type": "display_data"
    }
   ],
   "source": [
    "data.plot(kind = \"scatter\", x=\"WkLoad\", y=\"Sales\")"
   ]
  },
  {
   "cell_type": "markdown",
   "metadata": {},
   "source": [
    "Equation of Line:\n",
    "\n",
    "Y(Sales) =-1485.88 + 1.9745*Time + 0.037*MktPoten +0.1520*Adver +198.3085*MktShare + 295.8661*Change + 5.6102*Accts + 19.8990*WkLoad\n",
    "How do we interpret these coefficients? \n",
    "\n",
    "For a given amount of time increase by 1000 mins is associated with an increase in sales of 974.5 Units\n",
    "\n",
    "A unit increase in Time is associated with a 1.9745-unit Increase in sales.\n",
    "\n",
    "A unit increase in MktPoten is associated with a 0.0373-unit Increase in sales.\n",
    "\n",
    "A unit increase in Adver is associated with a 0.1520-unit Increase in sales.\n",
    "\n",
    "A unit increase in MktShare is associated with a 198.30-unit Increase in sales.\n",
    "\n",
    "A unit increase in Change is associated with a 295.86-unit Increase in sales.\n",
    "\n",
    "A unit increase in Accts is associated with a 5.6102-unit Increase in sales.\n",
    "\n",
    "A unit increase in Wkload is associated with a 19.89-unit Increase in sales"
   ]
  },
  {
   "cell_type": "code",
   "execution_count": 38,
   "metadata": {
    "collapsed": false
   },
   "outputs": [
    {
     "data": {
      "text/plain": [
       "Intercept   -1485.880758\n",
       "Time            1.974543\n",
       "MktPoten        0.037290\n",
       "Adver           0.151961\n",
       "MktShare      198.308488\n",
       "Change        295.866094\n",
       "Accts           5.610188\n",
       "WkLoad         19.899031\n",
       "dtype: float64"
      ]
     },
     "execution_count": 38,
     "metadata": {},
     "output_type": "execute_result"
    }
   ],
   "source": [
    "import statsmodels.formula.api as smf\n",
    "lm = smf.ols(formula= \"Sales~ Time+MktPoten+Adver+MktShare+Change+Accts+WkLoad\", data=data).fit()\n",
    "lm.params"
   ]
  },
  {
   "cell_type": "markdown",
   "metadata": {},
   "source": [
    "Coefficient of Determination R2:\n",
    "R2: Percent Variation in y can be explained by x\n",
    "In our case, Percent variation in Sales can be explained by Time, MktPoten, Adver, MktShare, Change, Accts and Wkload\n",
    "\n",
    "R2= 0.922\n",
    "92 Percent variation in Sales can be explained by Time, MktPoten, Adver, MktShare, Change, Accts and Wkload\n",
    "\n",
    "but in Multiple regression we will consider the Adjutant R2 because we are considering all x variables.\n",
    "\n",
    "Adj R2= 0.89\n",
    "89 Percent variation in Sales can be explained by Time, MktPoten, Adver, MktShare, Change, Accts and Wkload\n"
   ]
  },
  {
   "cell_type": "markdown",
   "metadata": {},
   "source": [
    "F-Test-\n",
    "\n",
    "P Value of f- Test: 0.00000003<0.05\n",
    "\n",
    "P value is less than 0.05\n",
    "\n",
    "Thus, a p-value less than 0.05 is one way to decide whether there is likely a relationship between the feature and the response.\n",
    "\n",
    "Hypothesis Test:\n",
    "\n",
    "H0 = B1 = 0 Variation is unexplained.\n",
    "\n",
    "H1= B1 not equal to 0 At least one x affect salary.\n",
    "\n",
    "If P value < 0.05 then Reject the Null hypothesis and claimed that there is relationship between at least one x variable and Sales\n",
    "\n",
    "0.00000003<0.05\n",
    "P value:\n",
    "In our case, we reject the Null hypothesis and claimed that there is relationship between at least one x and Sales.\n"
   ]
  },
  {
   "cell_type": "code",
   "execution_count": 39,
   "metadata": {
    "collapsed": false
   },
   "outputs": [
    {
     "name": "stdout",
     "output_type": "stream",
     "text": [
      "                            OLS Regression Results                            \n",
      "==============================================================================\n",
      "Dep. Variable:                  Sales   R-squared:                       0.922\n",
      "Model:                            OLS   Adj. R-squared:                  0.890\n",
      "Method:                 Least Squares   F-statistic:                     28.71\n",
      "Date:                Fri, 11 Nov 2016   Prob (F-statistic):           3.21e-08\n",
      "Time:                        14:46:55   Log-Likelihood:                -182.58\n",
      "No. Observations:                  25   AIC:                             381.2\n",
      "Df Residuals:                      17   BIC:                             390.9\n",
      "Df Model:                           7                                         \n",
      "Covariance Type:            nonrobust                                         \n",
      "==============================================================================\n",
      "                 coef    std err          t      P>|t|      [95.0% Conf. Int.]\n",
      "------------------------------------------------------------------------------\n",
      "Intercept  -1485.8808    677.673     -2.193      0.043     -2915.645   -56.116\n",
      "Time           1.9745      1.796      1.100      0.287        -1.814     5.763\n",
      "MktPoten       0.0373      0.008      4.750      0.000         0.021     0.054\n",
      "Adver          0.1520      0.043      3.514      0.003         0.061     0.243\n",
      "MktShare     198.3085     64.117      3.093      0.007        63.033   333.584\n",
      "Change       295.8661    164.387      1.800      0.090       -50.959   642.691\n",
      "Accts          5.6102      4.545      1.234      0.234        -3.979    15.199\n",
      "WkLoad        19.8990     32.636      0.610      0.550       -48.957    88.755\n",
      "==============================================================================\n",
      "Omnibus:                        0.950   Durbin-Watson:                   1.868\n",
      "Prob(Omnibus):                  0.622   Jarque-Bera (JB):                0.930\n",
      "Skew:                           0.319   Prob(JB):                        0.628\n",
      "Kurtosis:                       2.302   Cond. No.                     3.27e+05\n",
      "==============================================================================\n",
      "\n",
      "Warnings:\n",
      "[1] Standard Errors assume that the covariance matrix of the errors is correctly specified.\n",
      "[2] The condition number is large, 3.27e+05. This might indicate that there are\n",
      "strong multicollinearity or other numerical problems.\n"
     ]
    }
   ],
   "source": [
    "print(lm.summary())"
   ]
  },
  {
   "cell_type": "markdown",
   "metadata": {},
   "source": [
    "Step Down Method:\n",
    "    \n",
    "    First we will step down Workload \n",
    "    P value is higher than 0.05\n",
    "Wkload:\n",
    "H0 = B1 = 0 Variation is unexplained.\n",
    "\n",
    "H1= B1 not equal to 0 At least one x affect salary.\n",
    "\n",
    "0.55>0.05\n",
    "\n",
    "We failed to reject the Null Hypothesis and so as Wkload is not significant for our module.\n",
    "There is no relationship between Wkload and Sales.\n"
   ]
  },
  {
   "cell_type": "code",
   "execution_count": 40,
   "metadata": {
    "collapsed": false
   },
   "outputs": [
    {
     "data": {
      "text/plain": [
       "Intercept   -1165.478554\n",
       "Time            2.269351\n",
       "MktPoten        0.038278\n",
       "Adver           0.140670\n",
       "MktShare      221.604692\n",
       "Change        285.109284\n",
       "Accts           4.377703\n",
       "dtype: float64"
      ]
     },
     "execution_count": 40,
     "metadata": {},
     "output_type": "execute_result"
    }
   ],
   "source": [
    "import statsmodels.formula.api as smf\n",
    "lm1 = smf.ols(formula= \"Sales~ Time+MktPoten+Adver+MktShare+Change+Accts\", data=data).fit()\n",
    "lm1.params"
   ]
  },
  {
   "cell_type": "markdown",
   "metadata": {},
   "source": [
    "Our R2 value is same as our last module:\n",
    "\n",
    "Adj R2 = 0.89 Same as last module \n",
    "89 Percent variation in Sales can be explained by Time, MktPoten, Adver, MktShare, Change and Accts.\n"
   ]
  },
  {
   "cell_type": "code",
   "execution_count": 41,
   "metadata": {
    "collapsed": false
   },
   "outputs": [
    {
     "name": "stdout",
     "output_type": "stream",
     "text": [
      "                            OLS Regression Results                            \n",
      "==============================================================================\n",
      "Dep. Variable:                  Sales   R-squared:                       0.920\n",
      "Model:                            OLS   Adj. R-squared:                  0.894\n",
      "Method:                 Least Squares   F-statistic:                     34.65\n",
      "Date:                Fri, 11 Nov 2016   Prob (F-statistic):           6.14e-09\n",
      "Time:                        14:46:55   Log-Likelihood:                -182.85\n",
      "No. Observations:                  25   AIC:                             379.7\n",
      "Df Residuals:                      18   BIC:                             388.2\n",
      "Df Model:                           6                                         \n",
      "Covariance Type:            nonrobust                                         \n",
      "==============================================================================\n",
      "                 coef    std err          t      P>|t|      [95.0% Conf. Int.]\n",
      "------------------------------------------------------------------------------\n",
      "Intercept  -1165.4786    420.373     -2.772      0.013     -2048.649  -282.308\n",
      "Time           2.2694      1.699      1.336      0.198        -1.300     5.839\n",
      "MktPoten       0.0383      0.008      5.072      0.000         0.022     0.054\n",
      "Adver          0.1407      0.038      3.664      0.002         0.060     0.221\n",
      "MktShare     221.6047     50.583      4.381      0.000       115.334   327.876\n",
      "Change       285.1093    160.560      1.776      0.093       -52.214   622.433\n",
      "Accts          4.3777      3.999      1.095      0.288        -4.024    12.779\n",
      "==============================================================================\n",
      "Omnibus:                        1.400   Durbin-Watson:                   1.858\n",
      "Prob(Omnibus):                  0.497   Jarque-Bera (JB):                1.285\n",
      "Skew:                           0.456   Prob(JB):                        0.526\n",
      "Kurtosis:                       2.366   Cond. No.                     2.08e+05\n",
      "==============================================================================\n",
      "\n",
      "Warnings:\n",
      "[1] Standard Errors assume that the covariance matrix of the errors is correctly specified.\n",
      "[2] The condition number is large, 2.08e+05. This might indicate that there are\n",
      "strong multicollinearity or other numerical problems.\n"
     ]
    }
   ],
   "source": [
    "print(lm1.summary())"
   ]
  },
  {
   "cell_type": "markdown",
   "metadata": {},
   "source": [
    "In second step we will remove Accts \n",
    "P value > 0.05 as compared to other x\n",
    "0.288> 0.05\n",
    "we will see the R2 result.\n"
   ]
  },
  {
   "cell_type": "code",
   "execution_count": 42,
   "metadata": {
    "collapsed": false
   },
   "outputs": [
    {
     "data": {
      "text/plain": [
       "Intercept   -1113.787879\n",
       "Time            3.612101\n",
       "MktPoten        0.042088\n",
       "Adver           0.128857\n",
       "MktShare      256.955540\n",
       "Change        324.533450\n",
       "dtype: float64"
      ]
     },
     "execution_count": 42,
     "metadata": {},
     "output_type": "execute_result"
    }
   ],
   "source": [
    "import statsmodels.formula.api as smf\n",
    "lm2 = smf.ols(formula= \"Sales~ Time+MktPoten+Adver+MktShare+Change\", data=data).fit()\n",
    "lm2.params"
   ]
  },
  {
   "cell_type": "markdown",
   "metadata": {},
   "source": [
    "Our R2 value is same as our last module:\n",
    "\n",
    "Adj R2 = 0.89 Same as last module \n",
    "89 Percent variation in Sales can be explained by Time, MktPoten, Adver, MktShare and Change."
   ]
  },
  {
   "cell_type": "code",
   "execution_count": 43,
   "metadata": {
    "collapsed": false
   },
   "outputs": [
    {
     "name": "stdout",
     "output_type": "stream",
     "text": [
      "                            OLS Regression Results                            \n",
      "==============================================================================\n",
      "Dep. Variable:                  Sales   R-squared:                       0.915\n",
      "Model:                            OLS   Adj. R-squared:                  0.893\n",
      "Method:                 Least Squares   F-statistic:                     40.91\n",
      "Date:                Fri, 11 Nov 2016   Prob (F-statistic):           1.59e-09\n",
      "Time:                        14:46:55   Log-Likelihood:                -183.65\n",
      "No. Observations:                  25   AIC:                             379.3\n",
      "Df Residuals:                      19   BIC:                             386.6\n",
      "Df Model:                           5                                         \n",
      "Covariance Type:            nonrobust                                         \n",
      "==============================================================================\n",
      "                 coef    std err          t      P>|t|      [95.0% Conf. Int.]\n",
      "------------------------------------------------------------------------------\n",
      "Intercept  -1113.7879    419.887     -2.653      0.016     -1992.621  -234.955\n",
      "Time           3.6121      1.182      3.057      0.006         1.139     6.085\n",
      "MktPoten       0.0421      0.007      6.253      0.000         0.028     0.056\n",
      "Adver          0.1289      0.037      3.479      0.003         0.051     0.206\n",
      "MktShare     256.9555     39.136      6.566      0.000       175.043   338.868\n",
      "Change       324.5334    157.283      2.063      0.053        -4.664   653.731\n",
      "==============================================================================\n",
      "Omnibus:                        1.540   Durbin-Watson:                   1.762\n",
      "Prob(Omnibus):                  0.463   Jarque-Bera (JB):                1.395\n",
      "Skew:                           0.489   Prob(JB):                        0.498\n",
      "Kurtosis:                       2.383   Cond. No.                     2.06e+05\n",
      "==============================================================================\n",
      "\n",
      "Warnings:\n",
      "[1] Standard Errors assume that the covariance matrix of the errors is correctly specified.\n",
      "[2] The condition number is large, 2.06e+05. This might indicate that there are\n",
      "strong multicollinearity or other numerical problems.\n"
     ]
    }
   ],
   "source": [
    "print(lm2.summary())"
   ]
  },
  {
   "cell_type": "markdown",
   "metadata": {},
   "source": [
    "Third step:\n",
    "    \n",
    "    we will removed Change\n",
    "    P value 0.053>0.05\n",
    "    after running the cell, we will see the the R2 "
   ]
  },
  {
   "cell_type": "code",
   "execution_count": 44,
   "metadata": {
    "collapsed": false
   },
   "outputs": [
    {
     "data": {
      "text/plain": [
       "Intercept   -1312.292105\n",
       "Time            3.816469\n",
       "MktPoten        0.044396\n",
       "Adver           0.152477\n",
       "MktShare      259.469808\n",
       "dtype: float64"
      ]
     },
     "execution_count": 44,
     "metadata": {},
     "output_type": "execute_result"
    }
   ],
   "source": [
    "import statsmodels.formula.api as smf\n",
    "import statsmodels.formula.api as smf\n",
    "lm3 = smf.ols(formula= \"Sales~ Time+MktPoten+Adver+MktShare\", data=data).fit()\n",
    "lm3.params"
   ]
  },
  {
   "cell_type": "markdown",
   "metadata": {},
   "source": [
    "Now our R2 decreased by 2 percent\n",
    "87 Percent variation in Sales can be explained by Time, MktPoten, Adver and MktShare."
   ]
  },
  {
   "cell_type": "code",
   "execution_count": 45,
   "metadata": {
    "collapsed": false
   },
   "outputs": [
    {
     "name": "stdout",
     "output_type": "stream",
     "text": [
      "                            OLS Regression Results                            \n",
      "==============================================================================\n",
      "Dep. Variable:                  Sales   R-squared:                       0.896\n",
      "Model:                            OLS   Adj. R-squared:                  0.875\n",
      "Method:                 Least Squares   F-statistic:                     43.06\n",
      "Date:                Fri, 11 Nov 2016   Prob (F-statistic):           1.48e-09\n",
      "Time:                        14:46:55   Log-Likelihood:                -186.18\n",
      "No. Observations:                  25   AIC:                             382.4\n",
      "Df Residuals:                      20   BIC:                             388.5\n",
      "Df Model:                           4                                         \n",
      "Covariance Type:            nonrobust                                         \n",
      "==============================================================================\n",
      "                 coef    std err          t      P>|t|      [95.0% Conf. Int.]\n",
      "------------------------------------------------------------------------------\n",
      "Intercept  -1312.2921    440.747     -2.977      0.007     -2231.675  -392.910\n",
      "Time           3.8165      1.270      3.006      0.007         1.168     6.465\n",
      "MktPoten       0.0444      0.007      6.202      0.000         0.029     0.059\n",
      "Adver          0.1525      0.038      4.014      0.001         0.073     0.232\n",
      "MktShare     259.4698     42.183      6.151      0.000       171.478   347.461\n",
      "==============================================================================\n",
      "Omnibus:                        0.970   Durbin-Watson:                   1.240\n",
      "Prob(Omnibus):                  0.616   Jarque-Bera (JB):                0.806\n",
      "Skew:                           0.120   Prob(JB):                        0.668\n",
      "Kurtosis:                       2.154   Cond. No.                     2.00e+05\n",
      "==============================================================================\n",
      "\n",
      "Warnings:\n",
      "[1] Standard Errors assume that the covariance matrix of the errors is correctly specified.\n",
      "[2] The condition number is large,  2e+05. This might indicate that there are\n",
      "strong multicollinearity or other numerical problems.\n"
     ]
    }
   ],
   "source": [
    "print(lm3.summary())"
   ]
  },
  {
   "cell_type": "markdown",
   "metadata": {},
   "source": [
    "Step 4:\n",
    "    \n",
    "    We will remove the Time Variable from module. we will see the result\n",
    "    "
   ]
  },
  {
   "cell_type": "code",
   "execution_count": 46,
   "metadata": {
    "collapsed": false
   },
   "outputs": [
    {
     "name": "stdout",
     "output_type": "stream",
     "text": [
      "Intercept   -1603.580918\n",
      "MktPoten        0.054286\n",
      "Adver           0.167480\n",
      "MktShare      282.746666\n",
      "dtype: float64\n"
     ]
    }
   ],
   "source": [
    "import statsmodels.formula.api as smf\n",
    "import statsmodels.formula.api as smf\n",
    "lm4 = smf.ols(formula= \"Sales~ MktPoten+Adver+MktShare\", data=data).fit()\n",
    "print(lm4.params)"
   ]
  },
  {
   "cell_type": "markdown",
   "metadata": {},
   "source": [
    "   "
   ]
  },
  {
   "cell_type": "markdown",
   "metadata": {},
   "source": [
    "Now R2 = 82% decrease by 5 Percent.\n",
    "so we will not removed the Time from our module."
   ]
  },
  {
   "cell_type": "code",
   "execution_count": 47,
   "metadata": {
    "collapsed": false
   },
   "outputs": [
    {
     "name": "stdout",
     "output_type": "stream",
     "text": [
      "                            OLS Regression Results                            \n",
      "==============================================================================\n",
      "Dep. Variable:                  Sales   R-squared:                       0.849\n",
      "Model:                            OLS   Adj. R-squared:                  0.827\n",
      "Method:                 Least Squares   F-statistic:                     39.35\n",
      "Date:                Fri, 11 Nov 2016   Prob (F-statistic):           8.43e-09\n",
      "Time:                        14:46:55   Log-Likelihood:                -190.84\n",
      "No. Observations:                  25   AIC:                             389.7\n",
      "Df Residuals:                      21   BIC:                             394.6\n",
      "Df Model:                           3                                         \n",
      "Covariance Type:            nonrobust                                         \n",
      "==============================================================================\n",
      "                 coef    std err          t      P>|t|      [95.0% Conf. Int.]\n",
      "------------------------------------------------------------------------------\n",
      "Intercept  -1603.5809    505.550     -3.172      0.005     -2654.931  -552.231\n",
      "MktPoten       0.0543      0.007      7.263      0.000         0.039     0.070\n",
      "Adver          0.1675      0.044      3.783      0.001         0.075     0.260\n",
      "MktShare     282.7467     48.756      5.799      0.000       181.354   384.139\n",
      "==============================================================================\n",
      "Omnibus:                        1.862   Durbin-Watson:                   1.058\n",
      "Prob(Omnibus):                  0.394   Jarque-Bera (JB):                1.063\n",
      "Skew:                           0.069   Prob(JB):                        0.588\n",
      "Kurtosis:                       1.999   Cond. No.                     1.95e+05\n",
      "==============================================================================\n",
      "\n",
      "Warnings:\n",
      "[1] Standard Errors assume that the covariance matrix of the errors is correctly specified.\n",
      "[2] The condition number is large, 1.95e+05. This might indicate that there are\n",
      "strong multicollinearity or other numerical problems.\n"
     ]
    }
   ],
   "source": [
    "# If we step Down Acct then Adju R2 82% so we will not step down Acct.\n",
    "print(lm4.summary())"
   ]
  },
  {
   "cell_type": "markdown",
   "metadata": {
    "collapsed": true
   },
   "source": [
    "Lets see the other X values at the same time we will see the Value of R2\n"
   ]
  },
  {
   "cell_type": "code",
   "execution_count": 48,
   "metadata": {
    "collapsed": false
   },
   "outputs": [
    {
     "data": {
      "text/plain": [
       "Intercept   -1238.352102\n",
       "Time            4.486406\n",
       "MktPoten        0.048826\n",
       "MktShare      307.005055\n",
       "dtype: float64"
      ]
     },
     "execution_count": 48,
     "metadata": {},
     "output_type": "execute_result"
    }
   ],
   "source": [
    "import statsmodels.formula.api as smf\n",
    "import statsmodels.formula.api as smf\n",
    "lm5 = smf.ols(formula= \"Sales~ Time+MktPoten+MktShare\", data=data).fit()\n",
    "lm5.params\n"
   ]
  },
  {
   "cell_type": "markdown",
   "metadata": {},
   "source": [
    "we cannot remove Adver. \n",
    "After removing Adver our R2 = 0.78\n"
   ]
  },
  {
   "cell_type": "code",
   "execution_count": 49,
   "metadata": {
    "collapsed": false
   },
   "outputs": [
    {
     "name": "stdout",
     "output_type": "stream",
     "text": [
      "                            OLS Regression Results                            \n",
      "==============================================================================\n",
      "Dep. Variable:                  Sales   R-squared:                       0.812\n",
      "Model:                            OLS   Adj. R-squared:                  0.785\n",
      "Method:                 Least Squares   F-statistic:                     30.26\n",
      "Date:                Fri, 11 Nov 2016   Prob (F-statistic):           8.18e-08\n",
      "Time:                        14:46:55   Log-Likelihood:                -193.57\n",
      "No. Observations:                  25   AIC:                             395.1\n",
      "Df Residuals:                      21   BIC:                             400.0\n",
      "Df Model:                           3                                         \n",
      "Covariance Type:            nonrobust                                         \n",
      "==============================================================================\n",
      "                 coef    std err          t      P>|t|      [95.0% Conf. Int.]\n",
      "------------------------------------------------------------------------------\n",
      "Intercept  -1238.3521    577.492     -2.144      0.044     -2439.311   -37.393\n",
      "Time           4.4864      1.651      2.718      0.013         1.053     7.919\n",
      "MktPoten       0.0488      0.009      5.265      0.000         0.030     0.068\n",
      "MktShare     307.0051     53.094      5.782      0.000       196.590   417.420\n",
      "==============================================================================\n",
      "Omnibus:                        1.003   Durbin-Watson:                   1.383\n",
      "Prob(Omnibus):                  0.606   Jarque-Bera (JB):                0.888\n",
      "Skew:                           0.229   Prob(JB):                        0.641\n",
      "Kurtosis:                       2.198   Cond. No.                     1.99e+05\n",
      "==============================================================================\n",
      "\n",
      "Warnings:\n",
      "[1] Standard Errors assume that the covariance matrix of the errors is correctly specified.\n",
      "[2] The condition number is large, 1.99e+05. This might indicate that there are\n",
      "strong multicollinearity or other numerical problems.\n"
     ]
    }
   ],
   "source": [
    "print(lm5.summary())"
   ]
  },
  {
   "cell_type": "markdown",
   "metadata": {},
   "source": [
    "Lets Remove Mktshare \n",
    "then we will see the R2 Value."
   ]
  },
  {
   "cell_type": "code",
   "execution_count": 50,
   "metadata": {
    "collapsed": false
   },
   "outputs": [
    {
     "data": {
      "text/plain": [
       "Intercept    787.216812\n",
       "Time           5.250534\n",
       "MktPoten       0.030290\n",
       "Adver          0.218062\n",
       "dtype: float64"
      ]
     },
     "execution_count": 50,
     "metadata": {},
     "output_type": "execute_result"
    }
   ],
   "source": [
    "import statsmodels.formula.api as smf\n",
    "import statsmodels.formula.api as smf\n",
    "lm6 = smf.ols(formula= \"Sales~ Time+MktPoten+Adver\", data=data).fit()\n",
    "lm6.params"
   ]
  },
  {
   "cell_type": "code",
   "execution_count": 51,
   "metadata": {
    "collapsed": false
   },
   "outputs": [
    {
     "ename": "SyntaxError",
     "evalue": "invalid syntax (<ipython-input-51-8d7cf8631570>, line 3)",
     "output_type": "error",
     "traceback": [
      "\u001b[0;36m  File \u001b[0;32m\"<ipython-input-51-8d7cf8631570>\"\u001b[0;36m, line \u001b[0;32m3\u001b[0m\n\u001b[0;31m    we cannot removed the Mktshare from our module.\u001b[0m\n\u001b[0m            ^\u001b[0m\n\u001b[0;31mSyntaxError\u001b[0m\u001b[0;31m:\u001b[0m invalid syntax\n"
     ]
    }
   ],
   "source": [
    "R2 = 0.65\n",
    "\n",
    "we cannot removed the Mktshare from our module."
   ]
  },
  {
   "cell_type": "code",
   "execution_count": null,
   "metadata": {
    "collapsed": false
   },
   "outputs": [],
   "source": [
    "print(lm6.summary())"
   ]
  },
  {
   "cell_type": "code",
   "execution_count": null,
   "metadata": {
    "collapsed": false
   },
   "outputs": [],
   "source": [
    "import statsmodels.formula.api as smf\n",
    "import statsmodels.formula.api as smf\n",
    "lm7 = smf.ols(formula= \"Sales~ Time+Adver+MktShare\", data=data).fit()\n",
    "lm7.params"
   ]
  },
  {
   "cell_type": "code",
   "execution_count": null,
   "metadata": {
    "collapsed": false
   },
   "outputs": [],
   "source": [
    "print(lm7.summary())"
   ]
  },
  {
   "cell_type": "markdown",
   "metadata": {},
   "source": [
    "Conclusion:\n",
    "We cannot Removed the MktPoten. since our R2 = 65% \n",
    "R2 decreased from 82 Percent to 65%\n"
   ]
  },
  {
   "cell_type": "markdown",
   "metadata": {},
   "source": [
    "Conclusion:\n",
    "our module will be = Y(Sales) = -1312+3.82*Time+0.0044*Mktpoten+0.1524*Adver+259.46*MktShare.\n",
    "R2 = 87%\n",
    "87 Percent variation in Sales can be explained by Time, Mktpoten, Adver and MktShare\n",
    "we will consider following Features in our module.\n",
    "Time\n",
    "Mktpoten\n",
    "Adver\n",
    "Mktshare"
   ]
  }
 ],
 "metadata": {
  "anaconda-cloud": {},
  "kernelspec": {
   "display_name": "Python [name_of_my_env]",
   "language": "python",
   "name": "Python [name_of_my_env]"
  },
  "language_info": {
   "codemirror_mode": {
    "name": "ipython",
    "version": 3
   },
   "file_extension": ".py",
   "mimetype": "text/x-python",
   "name": "python",
   "nbconvert_exporter": "python",
   "pygments_lexer": "ipython3",
   "version": "3.5.2"
  }
 },
 "nbformat": 4,
 "nbformat_minor": 0
}
