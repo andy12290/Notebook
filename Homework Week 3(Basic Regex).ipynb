{
 "cells": [
  {
   "cell_type": "markdown",
   "metadata": {},
   "source": [
    "* Basic Regex Expression \n",
    "* Home work Week 3"
   ]
  },
  {
   "cell_type": "code",
   "execution_count": 8,
   "metadata": {
    "collapsed": false
   },
   "outputs": [],
   "source": [
    "# read a file\n",
    "import re\n",
    "with open(\"faa.txt\") as f:\n",
    "    data = f.read()"
   ]
  },
  {
   "cell_type": "code",
   "execution_count": 6,
   "metadata": {
    "collapsed": false
   },
   "outputs": [
    {
     "data": {
      "text/plain": [
       "5574"
      ]
     },
     "execution_count": 6,
     "metadata": {},
     "output_type": "execute_result"
    }
   ],
   "source": [
    "len(data)"
   ]
  },
  {
   "cell_type": "code",
   "execution_count": 19,
   "metadata": {
    "collapsed": false
   },
   "outputs": [
    {
     "data": {
      "text/plain": [
       "[('DHN', 'AL'),\n",
       " ('TCL', 'AL'),\n",
       " ('FYV', 'AR'),\n",
       " ('TXK', 'AR'),\n",
       " ('GEU', 'AZ'),\n",
       " ('GYR', 'AZ'),\n",
       " ('IFP', 'AZ'),\n",
       " ('RYN', 'AZ'),\n",
       " ('FUL', 'CA'),\n",
       " ('MER', 'CA')]"
      ]
     },
     "execution_count": 19,
     "metadata": {},
     "output_type": "execute_result"
    }
   ],
   "source": [
    "# we just want to pull out the ID and state\n",
    "re.findall(r\"([A-Z]{3}) .+ ([A-Z]{2})\", data)[0:10]"
   ]
  },
  {
   "cell_type": "code",
   "execution_count": 20,
   "metadata": {
    "collapsed": true
   },
   "outputs": [],
   "source": [
    "# we will save above result in faa\n",
    "faa = re.findall(r\"([A-Z]{3}) .+ ([A-Z]{2})\", data)"
   ]
  },
  {
   "cell_type": "code",
   "execution_count": 21,
   "metadata": {
    "collapsed": false
   },
   "outputs": [
    {
     "name": "stdout",
     "output_type": "stream",
     "text": [
      "[('DHN', 'AL'), ('TCL', 'AL'), ('FYV', 'AR'), ('TXK', 'AR'), ('GEU', 'AZ'), ('GYR', 'AZ'), ('IFP', 'AZ'), ('RYN', 'AZ'), ('FUL', 'CA'), ('MER', 'CA'), ('OXR', 'CA'), ('RAL', 'CA'), ('RNM', 'CA'), ('SAC', 'CA'), ('SDM', 'CA'), ('SNS', 'CA'), ('VCV', 'CA'), ('WHP', 'CA'), ('WJF', 'CA'), ('BDR', 'CT'), ('DXR', 'CT'), ('GON', 'CT'), ('HFD', 'CT'), ('HVN', 'CT'), ('OXC', 'CT'), ('APF', 'FL'), ('BCT', 'FL'), ('EVB', 'FL'), ('FMY', 'FL'), ('HWO', 'FL'), ('LAL', 'FL'), ('LEE', 'FL'), ('OCF', 'FL'), ('OMN', 'FL'), ('PGD', 'FL'), ('SGJ', 'FL'), ('SPG', 'FL'), ('SUA', 'FL'), ('TIX', 'FL'), ('ABY', 'GA'), ('AHN', 'GA'), ('LZU', 'GA'), ('MCN', 'GA'), ('RYY', 'GA'), ('DBQ', 'IA'), ('IDA', 'ID'), ('LWS', 'ID'), ('PIH', 'ID'), ('SUN', 'ID'), ('ALN', 'IL'), ('BMI', 'IL'), ('DEC', 'IL'), ('MDH', 'IL'), ('UGN', 'IL'), ('BAK', 'IN'), ('GYY', 'IN'), ('HUT', 'KS'), ('IXD', 'KS'), ('MHK', 'KS'), ('OJC', 'KS'), ('TOP', 'KS'), ('OWB', 'KY'), ('PAH', 'KY'), ('DTN', 'LA'), ('BVY', 'MA'), ('EWB', 'MA'), ('LWM', 'MA'), ('ORH', 'MA'), ('OWD', 'MA'), ('ESN', 'MD'), ('FDK', 'MD'), ('HGR', 'MD'), ('MTN', 'MD'), ('SBY', 'MD'), ('BTL', 'MI'), ('DET', 'MI'), ('SAW', 'MI'), ('ANE', 'MN'), ('STC', 'MN'), ('BBG', 'MO'), ('COU', 'MO'), ('GLH', 'MS'), ('HKS', 'MS'), ('HSA', 'MS'), ('OLV', 'MS'), ('TUP', 'MS'), ('GPI', 'MT'), ('EWN', 'NC'), ('HKY', 'NC'), ('INT', 'NC'), ('ISO', 'NC'), ('JQF', 'NC'), ('ASH', 'NH'), ('TTN', 'NJ'), ('AEG', 'NM'), ('SAF', 'NM'), ('ITH', 'NY'), ('RME', 'NY'), ('CGF', 'OH'), ('OSU', 'OH'), ('TZR', 'OH'), ('LAW', 'OK'), ('OUN', 'OK'), ('PWA', 'OK'), ('SWO', 'OK'), ('OTH', 'OR'), ('PDT', 'OR'), ('SLE', 'OR'), ('TTD', 'OR'), ('CXY', 'PA'), ('LBE', 'PA'), ('LNS', 'PA'), ('CRE', 'SC'), ('GYH', 'SC'), ('HXD', 'SC'), ('MKL', 'TN'), ('NQA', 'TN'), ('BAZ', 'TX'), ('BRO', 'TX'), ('CLL', 'TX'), ('CNW', 'TX'), ('CXO', 'TX'), ('GTU', 'TX'), ('HYI', 'TX'), ('RBD', 'TX'), ('SGR', 'TX'), ('SSF', 'TX'), ('TKI', 'TX'), ('TYR', 'TX'), ('VCT', 'TX'), ('OGD', 'UT'), ('PVU', 'UT'), ('LYH', 'VA'), ('OLM', 'WA'), ('RNT', 'WA'), ('SFF', 'WA'), ('TIW', 'WA'), ('YKM', 'WA'), ('CWA', 'WI'), ('EAU', 'WI'), ('ENW', 'WI'), ('JVL', 'WI'), ('LSE', 'WI'), ('MWC', 'WI'), ('OSH', 'WI'), ('UES', 'WI'), ('HLG', 'WV'), ('LWB', 'WV'), ('PKB', 'WV')]\n"
     ]
    }
   ],
   "source": [
    "print(faa)"
   ]
  },
  {
   "cell_type": "code",
   "execution_count": 23,
   "metadata": {
    "collapsed": false
   },
   "outputs": [
    {
     "name": "stdout",
     "output_type": "stream",
     "text": [
      "FAA Contract Tower Closure List\n",
      "(149 FCTs)\n",
      "3-22-2013\n",
      "LOC\n",
      "ID Facility Name City State\n",
      "DHN DOTHAN RGNL DOTHAN AL\n",
      "TCL TUSCALOOSA RGNL TUSCALOOSA AL\n",
      "FYV DRAKE FIELD FAYETTEVILLE AR\n",
      "TXK TEXARKANA RGNL-WEBB FIELD TEXARKANA AR\n",
      "GEU GLENDALE MUNI GLENDALE AZ\n",
      "GYR PHOENIX GOODYEAR GOODYEAR AZ\n",
      "IFP LAUGHLIN/BULLHEAD INTL BULLHEAD CITY AZ\n",
      "RYN RYAN FIELD TUCSON AZ\n",
      "FUL FULLERTON MUNI FULLERTON CA\n",
      "MER CASTLE ATWATER CA\n",
      "OXR OXNARD OXNARD CA\n",
      "RAL RIVERSIDE MUNI RIVERSIDE CA\n",
      "RNM RAMONA RAMONA CA\n",
      "SAC SACRAMENTO EXECU\n"
     ]
    }
   ],
   "source": [
    "print(data[0:500])"
   ]
  },
  {
   "cell_type": "code",
   "execution_count": 47,
   "metadata": {
    "collapsed": false
   },
   "outputs": [],
   "source": [
    "# so our task is to find out the number of closers.\n",
    "num_closures = int(re.search(r'\\((\\d+) FCTs\\)', data).group(1))"
   ]
  },
  {
   "cell_type": "code",
   "execution_count": 48,
   "metadata": {
    "collapsed": false
   },
   "outputs": [],
   "source": [
    "assert(len(faa) == num_closures)"
   ]
  },
  {
   "cell_type": "markdown",
   "metadata": {},
   "source": [
    "# Home work Assignment Number 2"
   ]
  },
  {
   "cell_type": "code",
   "execution_count": 49,
   "metadata": {
    "collapsed": true
   },
   "outputs": [],
   "source": [
    "with open(\"reputation.txt\") as f:\n",
    "    data = f.read()"
   ]
  },
  {
   "cell_type": "code",
   "execution_count": 55,
   "metadata": {
    "collapsed": false
   },
   "outputs": [
    {
     "name": "stdout",
     "output_type": "stream",
     "text": [
      "total votes: 36\n",
      " 2  12201376 (5)\n",
      "-- 2012-08-30 rep +5    = 6         \n",
      " 2  13822612 (10)\n",
      "-- 2012-12-11 rep +10   = 16        \n",
      " 2  13822612 (10)\n",
      "-- 2013-03-20 rep +10   = 26        \n",
      "-- 2013-12-05 rep 0     = 26        \n",
      "-- 2014-01-25 rep 0     = 26        \n",
      " 16  7141669 (2)\n",
      "-- 2014-03-19 rep +2    = 28        \n",
      " 1  12202249 (2)\n",
      "-- 2014-05-11 rep +2    = 30        \n",
      " 16 23599806 (2)\n",
      " 2  23597220 (10)\n",
      "-- 2014-05-12 rep +12   = 42        \n",
      " 2  13822612 (10)\n",
      "-- 2014-06-12 rep +10   = 52        \n",
      " 2  23597220 (10)\n",
      "-- 2014-06-26 rep +10   = 62        \n",
      "-- 2014-07-05 rep 0     = 62        \n",
      "-- 2014-09-02 rep 0     = 62        \n",
      " 2  23597220 (10)\n",
      "-- 2014-09-03 rep +10   = 72        \n",
      "-- 2014-10-28 rep 0     = 72        \n",
      " 2  23597220 (10)\n",
      "-- 2014-11-14 rep +10   = 82        \n",
      " 16 12107971 (2)\n",
      "-- 2014-11-18 rep +2    = 84        \n",
      " 16  3621018 (2)\n",
      "-- 2014-12-08 rep +2    = 86        \n",
      " 2  23597220 (10)\n",
      "-- 2014-12-09 rep +10   = 96        \n",
      " 16 16328613 (2)\n",
      "-- 2014-12-12 rep +2    = 98        \n",
      " 2  23597220 (10)\n",
      "-- 2014-12-24 rep +10   = 108       \n",
      "-- 2015-02-03 rep 0     = 108       \n",
      " 2  23597220 (10)\n",
      "-- 2015-02-20 rep +10   = 118       \n",
      " 2  23597220 (10)\n",
      "-- 2015-03-28 rep +10   = 128       \n",
      " 2  23597220 (10)\n",
      "-- 2015-04-26 rep +10   = 138       \n",
      " 2  13822612 (10)\n",
      "-- 2015-05-05 rep +10   = 148       \n",
      " 2  23597220 (10)\n",
      "-- 2015-05-26 rep +10   = 158       \n",
      " 2  23597220 (10)\n",
      " 2  23597220 (10)\n",
      "-- 2015-05-27 rep +20   = 178       \n",
      "-- 2015-06-09 rep 0     = 178       \n",
      " 2  23597220 (10)\n",
      "-- 2015-07-03 rep +10   = 188       \n",
      "-- 2015-07-06 rep 0     = 188       \n",
      " 2  23597220 (10)\n",
      "-- bonuses   (100)\n",
      "-- 2015-07-22 rep +110  = 298       \n",
      " 2  23597220 (10)\n",
      "-- 2015-08-21 rep +10   = 308       \n",
      " 2  23597220 (10)\n",
      "-- 2015-09-07 rep +10   = 318       \n",
      " 3   1839257 (-1)\n",
      "-- 2015-10-14 rep -1    = 317       \n",
      "\n",
      "** rep today: 0\n",
      "** rep this week (2015-11-08 - 2015-11-14): 0\n",
      "** rep this month (2015-11-01 - 2015-11-30): 0\n",
      "** rep this quarter (2015-10-01 - 2015-12-31): -1\n",
      "** rep this year (2015-01-01 - 2015-12-31): 109\n",
      "** rep from bonuses: 100\n",
      "** total rep 317 :)\n",
      "\n",
      "days represented 34\n",
      "rep cap was reached via rep from upvotes *only* on 0 days\n",
      "earned at least 200 reputation on 0 days\n",
      "earned 10 reputation from suggested edits\n",
      "\n"
     ]
    }
   ],
   "source": [
    "print(data)"
   ]
  },
  {
   "cell_type": "code",
   "execution_count": 80,
   "metadata": {
    "collapsed": false
   },
   "outputs": [
    {
     "data": {
      "text/plain": [
       "[('2012-08-30', '+5', '6'),\n",
       " ('2012-12-11', '+10', '16'),\n",
       " ('2013-03-20', '+10', '26'),\n",
       " ('2013-12-05', '0', '26'),\n",
       " ('2014-01-25', '0', '26'),\n",
       " ('2014-03-19', '+2', '28'),\n",
       " ('2014-05-11', '+2', '30'),\n",
       " ('2014-05-12', '+12', '42'),\n",
       " ('2014-06-12', '+10', '52'),\n",
       " ('2014-06-26', '+10', '62')]"
      ]
     },
     "execution_count": 80,
     "metadata": {},
     "output_type": "execute_result"
    }
   ],
   "source": [
    "# match all the details\n",
    "re.findall(r\"(\\d{4}-\\d{2}-\\d{2}) rep ([+-]?\\d+) += (\\d+)\", data)[0:10]"
   ]
  },
  {
   "cell_type": "code",
   "execution_count": 82,
   "metadata": {
    "collapsed": true
   },
   "outputs": [],
   "source": [
    "ree = re.findall(r\"(\\d{4}-\\d{2}-\\d{2}) rep ([+-]?\\d+) += (\\d+)\", data)"
   ]
  },
  {
   "cell_type": "code",
   "execution_count": 91,
   "metadata": {
    "collapsed": false
   },
   "outputs": [
    {
     "data": {
      "text/html": [
       "<div>\n",
       "<table border=\"1\" class=\"dataframe\">\n",
       "  <thead>\n",
       "    <tr style=\"text-align: right;\">\n",
       "      <th></th>\n",
       "      <th>Date</th>\n",
       "      <th>Points</th>\n",
       "      <th>Current_points</th>\n",
       "    </tr>\n",
       "  </thead>\n",
       "  <tbody>\n",
       "    <tr>\n",
       "      <th>0</th>\n",
       "      <td>2012-08-30</td>\n",
       "      <td>+5</td>\n",
       "      <td>6</td>\n",
       "    </tr>\n",
       "    <tr>\n",
       "      <th>1</th>\n",
       "      <td>2012-12-11</td>\n",
       "      <td>+10</td>\n",
       "      <td>16</td>\n",
       "    </tr>\n",
       "    <tr>\n",
       "      <th>2</th>\n",
       "      <td>2013-03-20</td>\n",
       "      <td>+10</td>\n",
       "      <td>26</td>\n",
       "    </tr>\n",
       "    <tr>\n",
       "      <th>3</th>\n",
       "      <td>2013-12-05</td>\n",
       "      <td>0</td>\n",
       "      <td>26</td>\n",
       "    </tr>\n",
       "    <tr>\n",
       "      <th>4</th>\n",
       "      <td>2014-01-25</td>\n",
       "      <td>0</td>\n",
       "      <td>26</td>\n",
       "    </tr>\n",
       "  </tbody>\n",
       "</table>\n",
       "</div>"
      ],
      "text/plain": [
       "         Date Points Current_points\n",
       "0  2012-08-30     +5              6\n",
       "1  2012-12-11    +10             16\n",
       "2  2013-03-20    +10             26\n",
       "3  2013-12-05      0             26\n",
       "4  2014-01-25      0             26"
      ]
     },
     "execution_count": 91,
     "metadata": {},
     "output_type": "execute_result"
    }
   ],
   "source": [
    "# convert to dataframe\n",
    "import pandas as pd\n",
    "col = [\"Date\", \"Points\", \"Current_points\"]\n",
    "data = pd.DataFrame(ree, columns=col)\n",
    "data.head()"
   ]
  },
  {
   "cell_type": "code",
   "execution_count": 92,
   "metadata": {
    "collapsed": false
   },
   "outputs": [
    {
     "data": {
      "text/plain": [
       "(34, 3)"
      ]
     },
     "execution_count": 92,
     "metadata": {},
     "output_type": "execute_result"
    }
   ],
   "source": [
    "data.shape"
   ]
  },
  {
   "cell_type": "markdown",
   "metadata": {},
   "source": [
    "* so we have converted raw text into the Dataframe"
   ]
  }
 ],
 "metadata": {
  "kernelspec": {
   "display_name": "Python [Root]",
   "language": "python",
   "name": "Python [Root]"
  },
  "language_info": {
   "codemirror_mode": {
    "name": "ipython",
    "version": 3
   },
   "file_extension": ".py",
   "mimetype": "text/x-python",
   "name": "python",
   "nbconvert_exporter": "python",
   "pygments_lexer": "ipython3",
   "version": "3.5.2"
  }
 },
 "nbformat": 4,
 "nbformat_minor": 0
}
